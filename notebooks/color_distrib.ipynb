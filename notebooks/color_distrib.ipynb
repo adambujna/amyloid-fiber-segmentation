{
 "cells": [
  {
   "cell_type": "code",
   "id": "initial_id",
   "metadata": {
    "collapsed": true,
    "ExecuteTime": {
     "end_time": "2025-05-24T12:01:51.208924Z",
     "start_time": "2025-05-24T12:01:37.674427Z"
    }
   },
   "source": [
    "import os\n",
    "import cv2 as cv\n",
    "import numpy as np\n",
    "import scipy as sp\n",
    "import matplotlib.pyplot as plt\n",
    "\n",
    "ROOT_DIR = os.path.abspath(\"../\")"
   ],
   "execution_count": 1,
   "outputs": []
  },
  {
   "metadata": {
    "ExecuteTime": {
     "end_time": "2025-05-24T12:01:53.796483Z",
     "start_time": "2025-05-24T12:01:53.792820Z"
    }
   },
   "cell_type": "code",
   "source": [
    "def immatch(name: str) -> str | None:\n",
    "    \"\"\"\n",
    "    Returns first image whose name matches the string for easy access.\n",
    "\n",
    "    :param name: The phrase against which to match.\n",
    "    :return: The full path to image.\n",
    "    \"\"\"\n",
    "    global ROOT_DIR\n",
    "    IM_DIR = os.path.join(ROOT_DIR, 'data/annotated data sets/set 1')\n",
    "\n",
    "    for filename in os.listdir(IM_DIR):\n",
    "        if name in filename:\n",
    "            return os.path.join(IM_DIR, filename)\n",
    "    return None"
   ],
   "id": "751daa9d625d3b7e",
   "execution_count": 2,
   "outputs": []
  },
  {
   "metadata": {},
   "cell_type": "markdown",
   "source": [
    "### Fibre Distributions ###\n",
    "\n",
    "Removing the background and blurring the images approximately shows the distribution of fibers."
   ],
   "id": "11e15610f015fd01"
  },
  {
   "metadata": {
    "ExecuteTime": {
     "end_time": "2025-05-24T12:03:13.868945Z",
     "start_time": "2025-05-24T12:01:55.878174Z"
    }
   },
   "cell_type": "code",
   "source": [
    "for image in os.listdir(os.path.join(ROOT_DIR, 'data/annotated data sets/set 1')):\n",
    "    if not image.endswith('.tif'):\n",
    "        continue\n",
    "    path = os.path.join(ROOT_DIR, 'data/annotated data sets/set 1', image)\n",
    "    img = cv.imread(path, cv.IMREAD_UNCHANGED).astype(np.float64)\n",
    "    img = img / img.max()\n",
    "    f, arr = plt.subplots(1, 2, figsize=(12, 6), layout='compressed')\n",
    "    ax2 = arr[0].imshow(img, cmap='gray', vmin=0.0, vmax=1.0)\n",
    "    arr[0].set_title('Original')\n",
    "    arr[1].set_title('Blurred')\n",
    "    plt.colorbar(ax2, ax=arr, aspect=30, orientation='horizontal', fraction=0.038)\n",
    "    f.suptitle(os.path.basename(image))\n",
    "    \n",
    "    # blurred image creation\n",
    "    blurred = np.abs(1-img)\n",
    "    blurred = np.clip((blurred-sp.stats.mode(blurred.flatten()).mode), a_min=0, a_max=1.0)\n",
    "    blurred *= (1/blurred.max())\n",
    "    blurred[blurred > 0.15] = 1\n",
    "    blurred = cv.GaussianBlur(blurred, (499, 499), 1000)\n",
    "    ax2 = arr[1].imshow(blurred, cmap='gray', vmin=0.0, vmax=1.0)\n",
    "    plt.show()"
   ],
   "id": "b387d08de8baee06",
   "execution_count": 3,
   "outputs": []
  },
  {
   "metadata": {},
   "cell_type": "markdown",
   "source": "",
   "id": "b3ca76b0d8bb3893"
  }
 ],
 "metadata": {
  "kernelspec": {
   "display_name": "Python 3",
   "language": "python",
   "name": "python3"
  },
  "language_info": {
   "codemirror_mode": {
    "name": "ipython",
    "version": 2
   },
   "file_extension": ".py",
   "mimetype": "text/x-python",
   "name": "python",
   "nbconvert_exporter": "python",
   "pygments_lexer": "ipython2",
   "version": "2.7.6"
  }
 },
 "nbformat": 4,
 "nbformat_minor": 5
}
