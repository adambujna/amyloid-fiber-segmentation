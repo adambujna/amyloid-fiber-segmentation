{
 "cells": [
  {
   "metadata": {},
   "cell_type": "markdown",
   "source": [
    "# Test data generation\n",
    "\n",
    "We will generate test images with uniformly distributed noise, clustering and background-signal contrast properties."
   ],
   "id": "699ca06675351577"
  },
  {
   "metadata": {
    "jupyter": {
     "is_executing": true
    }
   },
   "cell_type": "code",
   "source": [
    "import numpy as np\n",
    "from src.image_generator import generate_multiple_images"
   ],
   "id": "a40e44013fb9a30",
   "execution_count": null,
   "outputs": []
  },
  {
   "metadata": {
    "ExecuteTime": {
     "end_time": "2025-06-12T22:14:30.749261Z",
     "start_time": "2025-06-12T21:54:54.963775Z"
    }
   },
   "cell_type": "code",
   "source": [
    "np.random.seed(0)\n",
    "\n",
    "SAVING = True\n",
    "IMAGE_LIST_PATH = '../data/datasets/source_dataset/test.txt'\n",
    "IMAGE_SAVE_DIR = '../data/datasets/source_dataset/images/test'\n",
    "LABEL_SAVE_DIR = '../data/datasets/source_dataset/labels/test'\n",
    "\n",
    "generate_multiple_images(num_images=1000,\n",
    "                         start_index=2200,\n",
    "                         image_size=(2472, 2472),\n",
    "                         snr_range=(2.5, 12.5),\n",
    "                         clustering_range=(0, 10),\n",
    "                         bg_color_range=(30, 220),\n",
    "                         bg_sn_ratio=(1.2, 1.8),\n",
    "                         fibers=(45, 15),\n",
    "                         save=SAVING,\n",
    "                         save_format='all',\n",
    "                         image_list_file=IMAGE_LIST_PATH,\n",
    "                         save_dir=IMAGE_SAVE_DIR,\n",
    "                         label_dir=LABEL_SAVE_DIR,\n",
    "                         gui=False)"
   ],
   "id": "28b45c4d0261410b",
   "execution_count": 2,
   "outputs": []
  },
  {
   "metadata": {
    "ExecuteTime": {
     "start_time": "2025-06-12T22:34:38.261476Z"
    }
   },
   "cell_type": "code",
   "source": [
    "from src.data_utils import resize_images_dir\n",
    "\n",
    "image_path = f\"../data/datasets/yolo_dataset/images/test/\"\n",
    "json_path = f\"../data/datasets/yolo_dataset/images/test/\"\n",
    "\n",
    "resize_images_dir(image_path, 1024)"
   ],
   "id": "fa1887d0e273c2df",
   "execution_count": null,
   "outputs": []
  },
  {
   "metadata": {},
   "cell_type": "markdown",
   "source": "# Choosing Best SAM checkpoint",
   "id": "a20a97f5d3c7936f"
  },
  {
   "metadata": {},
   "cell_type": "code",
   "execution_count": null,
   "source": [
    "import os\n",
    "from ultralytics import SAM\n",
    "from src.model_eval import evaluate_model"
   ],
   "id": "e2d7aa3d0d7f1225",
   "outputs": []
  },
  {
   "metadata": {},
   "cell_type": "code",
   "execution_count": null,
   "source": [
    "ckpt_dir = '/workspace/pixi-sam2/sam2_logs/configs/sam2.1_training/fiber_segmentation.yaml/checkpoints'\n",
    "\n",
    "for ckpt in os.listdir(ckpt_dir):\n",
    "    if not ckpt.endswith('.pt'):\n",
    "        continue\n",
    "    if not ckpt.endswith('_sam2.1_t.pt'):\n",
    "        os.rename(os.path.join(ckpt_dir, ckpt), os.path.join(ckpt_dir, f'{os.path.splitext(ckpt)[0]}_sam2.1_t.pt'))\n",
    "        ckpt = f'{os.path.splitext(ckpt)[0]}_sam2.1_t.pt'\n",
    "    print(\"CURRENT CHECKPOINT:\", ckpt)\n",
    "    model = SAM(os.path.join(ckpt_dir, ckpt))\n",
    "    evaluate_model(model,\n",
    "                test_image_dir='/workspace/datasets/sam_dataset/val/images',\n",
    "                test_annotation_dir='/workspace/datasets/sam_dataset/val/images',\n",
    "                batch=1,\n",
    "                use_sam_annots=True,\n",
    "                output_file=f'{str(ckpt)}_val.csv',\n",
    "                verbose=False)"
   ],
   "id": "a98057d7fe3454ee",
   "outputs": []
  },
  {
   "metadata": {},
   "cell_type": "markdown",
   "source": "### Evaluating each checkpoint to choose best",
   "id": "4c1b4aaa8aa448c3"
  },
  {
   "metadata": {
    "ExecuteTime": {
     "end_time": "2025-06-27T15:11:23.909328Z",
     "start_time": "2025-06-27T15:11:23.906168Z"
    }
   },
   "cell_type": "code",
   "source": [
    "import pandas as pd\n",
    "import os"
   ],
   "id": "ab783e5fbd649afd",
   "execution_count": 10,
   "outputs": []
  },
  {
   "metadata": {
    "ExecuteTime": {
     "end_time": "2025-06-27T15:15:20.194317Z",
     "start_time": "2025-06-27T15:15:20.163811Z"
    }
   },
   "cell_type": "code",
   "source": [
    "ckpt_folder = '../data/results/sam ckpts'\n",
    "\n",
    "for ckpt_results in sorted(os.listdir(ckpt_folder)):\n",
    "    if not ckpt_results.endswith('.csv'):\n",
    "        continue\n",
    "    sam_df = pd.read_csv(str(os.path.join(ckpt_folder, ckpt_results)))\n",
    "    avg_f1 = sam_df['f1_score'].mean()\n",
    "    avg_prec = sam_df['precision'].mean()\n",
    "    avg_recall = sam_df['recall'].mean()\n",
    "    print(ckpt_results)\n",
    "    print(\"F1:\", avg_f1, \"\\n\",\n",
    "          \"Precision:\", avg_prec, \"\\n\",\n",
    "          \"Recall:\", avg_recall, \"\\n\")"
   ],
   "id": "9ac9d1a57702c445",
   "execution_count": 16,
   "outputs": []
  },
  {
   "metadata": {},
   "cell_type": "markdown",
   "source": "# Model Evaluation",
   "id": "340e24639c58fb87"
  },
  {
   "metadata": {
    "ExecuteTime": {
     "end_time": "2025-06-26T09:50:16.504887Z",
     "start_time": "2025-06-26T09:50:13.960798Z"
    }
   },
   "cell_type": "code",
   "source": [
    "from ultralytics import YOLO\n",
    "from src.model_eval import evaluate_model"
   ],
   "id": "bc8b4c332357225c",
   "execution_count": 1,
   "outputs": []
  },
  {
   "metadata": {
    "ExecuteTime": {
     "end_time": "2025-06-30T22:04:05.567119Z",
     "start_time": "2025-06-30T22:04:05.553173Z"
    }
   },
   "cell_type": "code",
   "source": [
    "model = YOLO('../model_checkpoints/yolo11large-fibersegmentation.pt')\n",
    "evaluate_model(model,\n",
    "               test_image_dir='../data/datasets/sam_dataset/test/images',\n",
    "               test_annotation_dir='../data/datasets/sam_dataset/test/images',\n",
    "               batch=1,\n",
    "               use_sam_annots=True,\n",
    "               output_file='../data/results/yolo11large.csv')"
   ],
   "id": "903c956adbc4135e",
   "execution_count": 14,
   "outputs": []
  },
  {
   "metadata": {},
   "cell_type": "markdown",
   "source": "# Sorting Data",
   "id": "65e4e8985d44c2fa"
  },
  {
   "cell_type": "code",
   "id": "initial_id",
   "metadata": {
    "collapsed": true,
    "ExecuteTime": {
     "end_time": "2025-06-30T22:02:16.775583Z",
     "start_time": "2025-06-30T22:02:16.770922Z"
    }
   },
   "source": [
    "import numpy as np\n",
    "import pandas as pd"
   ],
   "execution_count": 11,
   "outputs": []
  },
  {
   "metadata": {
    "ExecuteTime": {
     "end_time": "2025-06-30T22:05:02.270088Z",
     "start_time": "2025-06-30T22:05:02.260524Z"
    }
   },
   "cell_type": "code",
   "source": [
    "df = pd.read_csv(\"../data/results/yolo11nano.csv\")\n",
    "\n",
    "# Example binning\n",
    "df['snr_bin'] = pd.cut(df['snr'], bins=[2.4, 5, 7.5, 10, 12.5])\n",
    "df['cluster_bin'] = pd.cut(df['clustering'], bins=[-1, 2, 4, 6, 8, 10])\n",
    "df['fibre_bin'] = pd.cut(df['num_fibers'], bins=[0, 30, 60, 90, 120])"
   ],
   "id": "18815c144dc2d1a8",
   "execution_count": 15,
   "outputs": []
  },
  {
   "metadata": {
    "ExecuteTime": {
     "end_time": "2025-06-30T22:05:02.714216Z",
     "start_time": "2025-06-30T22:05:02.702159Z"
    }
   },
   "cell_type": "code",
   "source": [
    "snr_summary = df.groupby('snr_bin', observed=False)[['f1_score', 'precision', 'recall']].mean().round(3)\n",
    "\n",
    "# Group by Clustering bin\n",
    "cluster_summary = df.groupby('cluster_bin', observed=False)[['f1_score', 'precision', 'recall']].mean().round(3)\n",
    "\n",
    "# Group by Fibre Count bin\n",
    "fibre_summary = df.groupby('fibre_bin', observed=False)[['f1_score', 'precision', 'recall']].mean().round(3)\n",
    "\n",
    "# Display\n",
    "print(\"SNR Summary:\\n\", snr_summary)\n",
    "print(\"\\nClustering Summary:\\n\", cluster_summary)\n",
    "print(\"\\nFibre Count Summary:\\n\", fibre_summary)"
   ],
   "id": "995d66e7330809fd",
   "execution_count": 16,
   "outputs": []
  },
  {
   "metadata": {
    "ExecuteTime": {
     "end_time": "2025-06-27T16:08:47.265204Z",
     "start_time": "2025-06-27T16:08:47.263179Z"
    }
   },
   "cell_type": "code",
   "source": "",
   "id": "fcfcc187f491a300",
   "execution_count": 3,
   "outputs": []
  }
 ],
 "metadata": {
  "kernelspec": {
   "display_name": "Python 3",
   "language": "python",
   "name": "python3"
  },
  "language_info": {
   "codemirror_mode": {
    "name": "ipython",
    "version": 2
   },
   "file_extension": ".py",
   "mimetype": "text/x-python",
   "name": "python",
   "nbconvert_exporter": "python",
   "pygments_lexer": "ipython2",
   "version": "2.7.6"
  }
 },
 "nbformat": 4,
 "nbformat_minor": 5
}
