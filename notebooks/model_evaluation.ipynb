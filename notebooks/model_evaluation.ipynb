{
 "cells": [
  {
   "metadata": {},
   "cell_type": "markdown",
   "source": [
    "# Test data generation\n",
    "\n",
    "We will generate test images with uniformly distributed noise, clustering and background-signal contrast properties."
   ],
   "id": "699ca06675351577"
  },
  {
   "metadata": {
    "ExecuteTime": {
     "end_time": "2025-06-12T21:54:54.204495Z",
     "start_time": "2025-06-12T21:54:53.784471Z"
    }
   },
   "cell_type": "code",
   "source": [
    "import numpy as np\n",
    "from src.image_generator import generate_multiple_images"
   ],
   "id": "a40e44013fb9a30",
   "execution_count": 1,
   "outputs": []
  },
  {
   "metadata": {
    "ExecuteTime": {
     "end_time": "2025-06-12T22:14:30.749261Z",
     "start_time": "2025-06-12T21:54:54.963775Z"
    }
   },
   "cell_type": "code",
   "source": [
    "np.random.seed(0)\n",
    "\n",
    "SAVING = True\n",
    "IMAGE_LIST_PATH = '../data/datasets/source_dataset/test.txt'\n",
    "IMAGE_SAVE_DIR = '../data/datasets/source_dataset/images/test'\n",
    "LABEL_SAVE_DIR = '../data/datasets/source_dataset/labels/test'\n",
    "\n",
    "generate_multiple_images(num_images=1000,\n",
    "                         start_index=2200,\n",
    "                         image_size=(2472, 2472),\n",
    "                         snr_range=(2.5, 12.5),\n",
    "                         clustering_range=(0, 10),\n",
    "                         bg_color_range=(30, 220),\n",
    "                         bg_sn_ratio=(1.2, 1.8),\n",
    "                         fibers=(45, 15),\n",
    "                         save=SAVING,\n",
    "                         save_format='all',\n",
    "                         image_list_file=IMAGE_LIST_PATH,\n",
    "                         save_dir=IMAGE_SAVE_DIR,\n",
    "                         label_dir=LABEL_SAVE_DIR,\n",
    "                         gui=False)"
   ],
   "id": "28b45c4d0261410b",
   "execution_count": 2,
   "outputs": []
  },
  {
   "metadata": {
    "jupyter": {
     "is_executing": true
    },
    "ExecuteTime": {
     "start_time": "2025-06-12T22:34:38.261476Z"
    }
   },
   "cell_type": "code",
   "source": [
    "from src.data_utils import resize_images_dir\n",
    "\n",
    "image_path = f\"../data/datasets/yolo_dataset/images/test/\"\n",
    "json_path = f\"../data/datasets/yolo_dataset/images/test/\"\n",
    "\n",
    "resize_images_dir(image_path, 1024)"
   ],
   "id": "fa1887d0e273c2df",
   "outputs": [
    {
     "name": "stdout",
     "output_type": "stream",
     "text": [
      "(264/1000) Resizing snr9.197_cluster7_bg152_sn116_n47_image_2369.png to 102444"
     ]
    }
   ],
   "execution_count": null
  },
  {
   "metadata": {},
   "cell_type": "markdown",
   "source": "# Sorting Data",
   "id": "65e4e8985d44c2fa"
  },
  {
   "cell_type": "code",
   "id": "initial_id",
   "metadata": {
    "collapsed": true,
    "ExecuteTime": {
     "end_time": "2025-05-29T20:15:01.746218Z",
     "start_time": "2025-05-29T20:15:01.667028Z"
    }
   },
   "source": [
    "import numpy as np\n",
    "import pandas as pd"
   ],
   "execution_count": 1,
   "outputs": []
  },
  {
   "metadata": {
    "ExecuteTime": {
     "end_time": "2025-06-01T21:55:36.113076Z",
     "start_time": "2025-06-01T21:55:35.269720Z"
    }
   },
   "cell_type": "code",
   "source": [
    "df = pd.read_csv(\"../src/output.csv\")\n",
    "\n",
    "# Example binning\n",
    "df['snr_bin'] = pd.cut(df['snr'], bins=[2.5, 5, 7.5, 10, 12.5])\n",
    "df['cluster_bin'] = pd.cut(df['clustering'], bins=[0, 2, 4, 6, 8, 10])\n",
    "df['fibre_bin'] = pd.cut(df['num_fibers'], bins=[0, 30, 60, 90, 120])"
   ],
   "id": "18815c144dc2d1a8",
   "execution_count": 1,
   "outputs": []
  },
  {
   "metadata": {
    "ExecuteTime": {
     "end_time": "2025-06-01T21:55:36.128300Z",
     "start_time": "2025-06-01T21:55:36.114235Z"
    }
   },
   "cell_type": "code",
   "source": [
    "snr_summary = df.groupby('snr_bin', observed=False)[['f1_score', 'precision', 'recall']].mean().round(3)\n",
    "\n",
    "# Group by Clustering bin\n",
    "cluster_summary = df.groupby('cluster_bin', observed=False)[['f1_score', 'precision', 'recall']].mean().round(3)\n",
    "\n",
    "# Group by Fibre Count bin\n",
    "fibre_summary = df.groupby('fibre_bin', observed=False)[['f1_score', 'precision', 'recall']].mean().round(3)\n",
    "\n",
    "# Display\n",
    "print(\"SNR Summary:\\n\", snr_summary)\n",
    "print(\"\\nClustering Summary:\\n\", cluster_summary)\n",
    "print(\"\\nFibre Count Summary:\\n\", fibre_summary)"
   ],
   "id": "995d66e7330809fd",
   "execution_count": 2,
   "outputs": []
  },
  {
   "metadata": {},
   "cell_type": "code",
   "execution_count": null,
   "source": "",
   "id": "fcfcc187f491a300",
   "outputs": []
  }
 ],
 "metadata": {
  "kernelspec": {
   "display_name": "Python 3",
   "language": "python",
   "name": "python3"
  },
  "language_info": {
   "codemirror_mode": {
    "name": "ipython",
    "version": 2
   },
   "file_extension": ".py",
   "mimetype": "text/x-python",
   "name": "python",
   "nbconvert_exporter": "python",
   "pygments_lexer": "ipython2",
   "version": "2.7.6"
  }
 },
 "nbformat": 4,
 "nbformat_minor": 5
}
