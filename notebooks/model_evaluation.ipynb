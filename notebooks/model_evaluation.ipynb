{
 "cells": [
  {
   "metadata": {},
   "cell_type": "markdown",
   "source": [
    "# Test data generation\n",
    "\n",
    "We will generate test images with uniformly distributed noise, clustering and background-signal contrast properties."
   ],
   "id": "699ca06675351577"
  },
  {
   "metadata": {
    "jupyter": {
     "is_executing": true
    }
   },
   "cell_type": "code",
   "source": [
    "import numpy as np\n",
    "from src.image_generator import generate_multiple_images"
   ],
   "id": "a40e44013fb9a30",
   "outputs": [],
   "execution_count": null
  },
  {
   "metadata": {
    "ExecuteTime": {
     "end_time": "2025-06-12T22:14:30.749261Z",
     "start_time": "2025-06-12T21:54:54.963775Z"
    }
   },
   "cell_type": "code",
   "source": [
    "np.random.seed(0)\n",
    "\n",
    "SAVING = True\n",
    "IMAGE_LIST_PATH = '../data/datasets/source_dataset/test.txt'\n",
    "IMAGE_SAVE_DIR = '../data/datasets/source_dataset/images/test'\n",
    "LABEL_SAVE_DIR = '../data/datasets/source_dataset/labels/test'\n",
    "\n",
    "generate_multiple_images(num_images=1000,\n",
    "                         start_index=2200,\n",
    "                         image_size=(2472, 2472),\n",
    "                         snr_range=(2.5, 12.5),\n",
    "                         clustering_range=(0, 10),\n",
    "                         bg_color_range=(30, 220),\n",
    "                         bg_sn_ratio=(1.2, 1.8),\n",
    "                         fibers=(45, 15),\n",
    "                         save=SAVING,\n",
    "                         save_format='all',\n",
    "                         image_list_file=IMAGE_LIST_PATH,\n",
    "                         save_dir=IMAGE_SAVE_DIR,\n",
    "                         label_dir=LABEL_SAVE_DIR,\n",
    "                         gui=False)"
   ],
   "id": "28b45c4d0261410b",
   "execution_count": 2,
   "outputs": []
  },
  {
   "metadata": {
    "ExecuteTime": {
     "start_time": "2025-06-12T22:34:38.261476Z"
    }
   },
   "cell_type": "code",
   "source": [
    "from src.data_utils import resize_images_dir\n",
    "\n",
    "image_path = f\"../data/datasets/yolo_dataset/images/test/\"\n",
    "json_path = f\"../data/datasets/yolo_dataset/images/test/\"\n",
    "\n",
    "resize_images_dir(image_path, 1024)"
   ],
   "id": "fa1887d0e273c2df",
   "execution_count": null,
   "outputs": []
  },
  {
   "metadata": {},
   "cell_type": "markdown",
   "source": "# Choosing Best SAM checkpoint",
   "id": "a20a97f5d3c7936f"
  },
  {
   "metadata": {},
   "cell_type": "code",
   "execution_count": null,
   "source": [
    "import os\n",
    "from ultralytics import SAM\n",
    "from src.model_eval import evaluate_model"
   ],
   "id": "e2d7aa3d0d7f1225",
   "outputs": []
  },
  {
   "metadata": {},
   "cell_type": "code",
   "execution_count": null,
   "source": [
    "ckpt_dir = '/workspace/pixi-sam2/sam2_logs/configs/sam2.1_training/fiber_segmentation.yaml/checkpoints'\n",
    "\n",
    "for ckpt in os.listdir(ckpt_dir):\n",
    "    if not ckpt.endswith('.pt'):\n",
    "        continue\n",
    "    if not ckpt.endswith('_sam2.1_t.pt'):\n",
    "        os.rename(os.path.join(ckpt_dir, ckpt), os.path.join(ckpt_dir, f'{os.path.splitext(ckpt)[0]}_sam2.1_t.pt'))\n",
    "        ckpt = f'{os.path.splitext(ckpt)[0]}_sam2.1_t.pt'\n",
    "    print(\"CURRENT CHECKPOINT:\", ckpt)\n",
    "    model = SAM(os.path.join(ckpt_dir, ckpt))\n",
    "    evaluate_model(model,\n",
    "                test_image_dir='/workspace/datasets/sam_dataset/val/images',\n",
    "                test_annotation_dir='/workspace/datasets/sam_dataset/val/images',\n",
    "                batch=1,\n",
    "                use_sam_annots=True,\n",
    "                output_file=f'{str(ckpt)}_val.csv',\n",
    "                verbose=False)"
   ],
   "id": "a98057d7fe3454ee",
   "outputs": []
  },
  {
   "metadata": {},
   "cell_type": "markdown",
   "source": "# Model Evaluation",
   "id": "340e24639c58fb87"
  },
  {
   "metadata": {
    "ExecuteTime": {
     "end_time": "2025-06-26T09:50:16.504887Z",
     "start_time": "2025-06-26T09:50:13.960798Z"
    }
   },
   "cell_type": "code",
   "source": [
    "from ultralytics import YOLO\n",
    "from src.model_eval import evaluate_model"
   ],
   "id": "bc8b4c332357225c",
   "execution_count": 1,
   "outputs": []
  },
  {
   "metadata": {
    "ExecuteTime": {
     "end_time": "2025-06-26T10:02:14.315427Z",
     "start_time": "2025-06-26T10:02:12.126497Z"
    }
   },
   "cell_type": "code",
   "source": [
    "model = YOLO('../models/yolo11large.pt')\n",
    "evaluate_model(model,\n",
    "               test_image_dir='../data/datasets/sam_dataset/test/images',\n",
    "               test_annotation_dir='../data/datasets/sam_dataset/test/images',\n",
    "               batch=1,\n",
    "               use_sam_annots=True,\n",
    "               output_file='../data/results/yolo11large.csv')"
   ],
   "id": "903c956adbc4135e",
   "execution_count": 4,
   "outputs": []
  },
  {
   "metadata": {},
   "cell_type": "markdown",
   "source": "# Sorting Data",
   "id": "65e4e8985d44c2fa"
  },
  {
   "cell_type": "code",
   "id": "initial_id",
   "metadata": {
    "collapsed": true,
    "ExecuteTime": {
     "end_time": "2025-06-27T11:24:30.604298Z",
     "start_time": "2025-06-27T11:24:29.912912Z"
    }
   },
   "source": [
    "import numpy as np\n",
    "import pandas as pd"
   ],
   "outputs": [],
   "execution_count": 1
  },
  {
   "metadata": {
    "ExecuteTime": {
     "end_time": "2025-06-27T12:56:27.573014Z",
     "start_time": "2025-06-27T12:56:27.559950Z"
    }
   },
   "cell_type": "code",
   "source": [
    "df = pd.read_csv(\"../data/results/yolo11large.csv\")\n",
    "\n",
    "# Example binning\n",
    "df['snr_bin'] = pd.cut(df['snr'], bins=[2.5, 5, 7.5, 10, 12.5])\n",
    "df['cluster_bin'] = pd.cut(df['clustering'], bins=[0, 2, 4, 6, 8, 10])\n",
    "df['fibre_bin'] = pd.cut(df['num_fibers'], bins=[0, 30, 60, 90, 120])"
   ],
   "id": "18815c144dc2d1a8",
   "outputs": [],
   "execution_count": 6
  },
  {
   "metadata": {
    "ExecuteTime": {
     "end_time": "2025-06-27T12:56:32.961331Z",
     "start_time": "2025-06-27T12:56:32.948934Z"
    }
   },
   "cell_type": "code",
   "source": [
    "snr_summary = df.groupby('snr_bin', observed=False)[['f1_score', 'precision', 'recall']].mean().round(3)\n",
    "\n",
    "# Group by Clustering bin\n",
    "cluster_summary = df.groupby('cluster_bin', observed=False)[['f1_score', 'precision', 'recall']].mean().round(3)\n",
    "\n",
    "# Group by Fibre Count bin\n",
    "fibre_summary = df.groupby('fibre_bin', observed=False)[['f1_score', 'precision', 'recall']].mean().round(3)\n",
    "\n",
    "# Display\n",
    "print(\"SNR Summary:\\n\", snr_summary)\n",
    "print(\"\\nClustering Summary:\\n\", cluster_summary)\n",
    "print(\"\\nFibre Count Summary:\\n\", fibre_summary)"
   ],
   "id": "995d66e7330809fd",
   "outputs": [
    {
     "name": "stdout",
     "output_type": "stream",
     "text": [
      "SNR Summary:\n",
      "               f1_score  precision  recall\n",
      "snr_bin                                  \n",
      "(2.5, 5.0]       0.889      0.900   0.879\n",
      "(5.0, 7.5]       0.885      0.894   0.876\n",
      "(7.5, 10.0]      0.879      0.889   0.869\n",
      "(10.0, 12.5]     0.880      0.889   0.872\n",
      "\n",
      "Clustering Summary:\n",
      "              f1_score  precision  recall\n",
      "cluster_bin                             \n",
      "(0, 2]          0.905      0.916   0.895\n",
      "(2, 4]          0.904      0.915   0.893\n",
      "(4, 6]          0.886      0.895   0.877\n",
      "(6, 8]          0.867      0.877   0.858\n",
      "(8, 10]         0.845      0.852   0.839\n",
      "\n",
      "Fibre Count Summary:\n",
      "            f1_score  precision  recall\n",
      "fibre_bin                             \n",
      "(0, 30]       0.900      0.913   0.888\n",
      "(30, 60]      0.883      0.893   0.875\n",
      "(60, 90]      0.857      0.863   0.850\n",
      "(90, 120]     0.793      0.785   0.802\n"
     ]
    }
   ],
   "execution_count": 7
  },
  {
   "metadata": {},
   "cell_type": "code",
   "execution_count": null,
   "source": "",
   "id": "fcfcc187f491a300",
   "outputs": []
  }
 ],
 "metadata": {
  "kernelspec": {
   "display_name": "Python 3",
   "language": "python",
   "name": "python3"
  },
  "language_info": {
   "codemirror_mode": {
    "name": "ipython",
    "version": 2
   },
   "file_extension": ".py",
   "mimetype": "text/x-python",
   "name": "python",
   "nbconvert_exporter": "python",
   "pygments_lexer": "ipython2",
   "version": "2.7.6"
  }
 },
 "nbformat": 4,
 "nbformat_minor": 5
}
