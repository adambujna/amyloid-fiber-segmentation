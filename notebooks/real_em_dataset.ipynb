{
 "cells": [
  {
   "metadata": {},
   "cell_type": "markdown",
   "source": "# Creating a Dataset out of Real EM Images",
   "id": "7bcc87706e001e19"
  },
  {
   "metadata": {},
   "cell_type": "markdown",
   "source": "The annotations of the real EM images are crudely traced skeletons of fibres and need to be converted into masks and further into the correct dataset formats for fine-tuning.",
   "id": "89ad2913edb79c3e"
  },
  {
   "metadata": {
    "ExecuteTime": {
     "end_time": "2025-06-26T15:37:32.740196Z",
     "start_time": "2025-06-26T15:37:32.737394Z"
    }
   },
   "cell_type": "code",
   "source": [
    "import os\n",
    "import cv2 as cv\n",
    "import numpy as np\n",
    "from tqdm import tqdm\n",
    "\n",
    "from src.data_utils import save_label_sam, save_label_yolo"
   ],
   "id": "d5e50ab8f374d816",
   "execution_count": 25,
   "outputs": []
  },
  {
   "metadata": {
    "ExecuteTime": {
     "end_time": "2025-06-26T15:37:32.744121Z",
     "start_time": "2025-06-26T15:37:32.742038Z"
    }
   },
   "cell_type": "code",
   "source": "import matplotlib.pyplot as plt",
   "id": "6c116ed6050d7f80",
   "execution_count": 26,
   "outputs": []
  },
  {
   "cell_type": "code",
   "id": "initial_id",
   "metadata": {
    "collapsed": true,
    "ExecuteTime": {
     "end_time": "2025-06-26T15:37:32.748528Z",
     "start_time": "2025-06-26T15:37:32.745572Z"
    }
   },
   "source": [
    "DATASET_1 = '../data/real datasets/set 1'\n",
    "DATASET_2 = '../data/real datasets/set 2'\n",
    "\n",
    "NEW_DATASET = '../data/datasets/real_dataset'"
   ],
   "execution_count": 27,
   "outputs": []
  },
  {
   "metadata": {
    "ExecuteTime": {
     "end_time": "2025-06-26T17:06:40.058208Z",
     "start_time": "2025-06-26T15:37:32.750123Z"
    }
   },
   "cell_type": "code",
   "source": [
    "IMAGES = []\n",
    "LABELS = []\n",
    "for ds in [DATASET_1, DATASET_2]:\n",
    "    IMAGE_DIR = os.path.join(ds, 'png files')\n",
    "    \n",
    "    for i, imname in enumerate(os.listdir(IMAGE_DIR)):\n",
    "        if not imname.endswith('.png'):\n",
    "            continue\n",
    "        raw_label = os.path.join(ds, 'output/{}.npy'.format(os.path.splitext(imname)[0]))\n",
    "        impath = os.path.join(IMAGE_DIR, imname)\n",
    "        \n",
    "        IMAGES.append(impath)\n",
    "        LABELS.append(raw_label)\n",
    "        \n",
    "        img = cv.imread(impath)\n",
    "        lbl = np.array(np.load(raw_label, allow_pickle=True)) / 1.765\n",
    "        # For some reason the labels are not the same size as the image\n",
    "        for l in lbl:   # Invert Y axis for plotting\n",
    "            l[:, 1] = np.abs(l[:, 1] - img.shape[0])\n",
    "        \n",
    "        # Creating labels\n",
    "        contours = []\n",
    "        masks = []\n",
    "        for l in tqdm(lbl):\n",
    "            mask = np.zeros(img.shape[:2], np.uint8)\n",
    "            cv.polylines(mask, [l.astype(np.int32)], isClosed=False, thickness=20, color=255)\n",
    "            # For saving binary masks for SA1B format\n",
    "            masks.append(mask)\n",
    "            \n",
    "            # For saving COCO format\n",
    "            contours_data, _ = cv.findContours(mask.astype(np.uint8),\n",
    "                                               mode=cv.RETR_EXTERNAL, method=cv.CHAIN_APPROX_NONE)\n",
    "            for contour in contours_data:\n",
    "                epsilon = 0.003 * cv.arcLength(contour, closed=True)\n",
    "                approx = cv.approxPolyDP(contour, epsilon=epsilon, closed=True)\n",
    "                if len(approx) > 2:\n",
    "                    contours.append(approx)\n",
    "            \n",
    "            # Saving labels\n",
    "            new_imdir = os.path.join(NEW_DATASET, 'images/train')\n",
    "            new_lbldir = os.path.join(NEW_DATASET, 'labels/train')\n",
    "            new_imname = f'{imname}_{i+2000}'\n",
    "            # cv.imwrite(os.path.join(new_imdir, f'{new_imname}.png'), img)\n",
    "            # save_label_yolo(new_imname, contours, img.shape[:2], new_lbldir)\n",
    "            # save_label_sam(new_imname, masks, new_imdir)\n",
    "        \n",
    "        # PLOTTING\n",
    "        plt.imshow(img, cmap='gray')\n",
    "        for l in lbl:\n",
    "            plt.plot(l[:, 0], l[:, 1], linewidth=2, marker='o', ms=3, alpha=0.5)\n",
    "        plt.show()\n",
    "        \n"
   ],
   "id": "5f3f110db8be96e3",
   "execution_count": 28,
   "outputs": []
  },
  {
   "metadata": {},
   "cell_type": "markdown",
   "source": "# The End.",
   "id": "18a2e1806066dece"
  }
 ],
 "metadata": {
  "kernelspec": {
   "display_name": "Python 3",
   "language": "python",
   "name": "python3"
  },
  "language_info": {
   "codemirror_mode": {
    "name": "ipython",
    "version": 2
   },
   "file_extension": ".py",
   "mimetype": "text/x-python",
   "name": "python",
   "nbconvert_exporter": "python",
   "pygments_lexer": "ipython2",
   "version": "2.7.6"
  }
 },
 "nbformat": 4,
 "nbformat_minor": 5
}
