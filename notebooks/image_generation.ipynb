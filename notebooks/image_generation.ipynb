{
 "cells": [
  {
   "metadata": {},
   "cell_type": "markdown",
   "source": "# Image generation",
   "id": "5ce507478d3e761d"
  },
  {
   "metadata": {
    "ExecuteTime": {
     "end_time": "2025-06-12T19:43:34.341643Z",
     "start_time": "2025-06-12T19:43:33.887500Z"
    }
   },
   "cell_type": "code",
   "source": [
    "import numpy as np\n",
    "import cv2\n",
    "import matplotlib.pyplot as plt"
   ],
   "id": "d543d92ac2a81490",
   "execution_count": 1,
   "outputs": []
  },
  {
   "metadata": {},
   "cell_type": "markdown",
   "source": "### Location Sampling",
   "id": "f2f9ae4b333627ef"
  },
  {
   "cell_type": "code",
   "id": "initial_id",
   "metadata": {
    "collapsed": true,
    "ExecuteTime": {
     "end_time": "2025-06-12T19:43:34.345346Z",
     "start_time": "2025-06-12T19:43:34.342577Z"
    }
   },
   "source": [
    "def get_noise_patch(noise_path: str, start_coords: tuple[int, int] = None, size: tuple[int, int] = (153, 206)):\n",
    "    noise = cv2.imread(noise_path, cv2.IMREAD_GRAYSCALE)\n",
    "    if noise is None:\n",
    "        raise ValueError(\"Noise image could not be loaded.\")\n",
    "\n",
    "    h, w = noise.shape\n",
    "    if start_coords is None:\n",
    "        start_coords = (np.random.randint(0, h), np.random.randint(0, w))\n",
    "\n",
    "    output = noise[start_coords[0]:start_coords[0] + size[0], start_coords[1]:start_coords[1] + size[1]]\n",
    "    output -= np.min(output)\n",
    "    output *= (255 // np.max(output))\n",
    "\n",
    "    return output"
   ],
   "execution_count": 2,
   "outputs": []
  },
  {
   "metadata": {
    "ExecuteTime": {
     "end_time": "2025-06-12T19:43:34.348919Z",
     "start_time": "2025-06-12T19:43:34.346059Z"
    }
   },
   "cell_type": "code",
   "source": [
    "def noise_based_sample(noise: np.ndarray, clustering: float = 2, num_samples: int = 1, max_jitter: float = 0.01):\n",
    "    flat = noise.flatten().astype(np.float64).clip(30, 255) ** clustering\n",
    "    flat = flat / flat.sum()\n",
    "    samples = np.random.choice(a=flat.size, p=flat, size=num_samples, replace=True)\n",
    "    samples = np.array([np.unravel_index(s, noise.shape) for s in samples], dtype=np.float64)\n",
    "    samples[:, 0] /= noise.shape[0] - 1\n",
    "    samples[:, 1] /= noise.shape[1] - 1\n",
    "\n",
    "    if max_jitter is not None and max_jitter > 0:\n",
    "        x_offsets = (np.random.random(num_samples) * max_jitter) - max_jitter / 2\n",
    "        y_offsets = (np.random.random(num_samples) * max_jitter) - max_jitter / 2\n",
    "\n",
    "        samples[:, 0] += y_offsets\n",
    "        samples[:, 1] += x_offsets\n",
    "\n",
    "    return samples.clip(0, 1), flat.reshape(noise.shape)"
   ],
   "id": "745e0d44b6a99e3",
   "execution_count": 3,
   "outputs": []
  },
  {
   "metadata": {
    "ExecuteTime": {
     "end_time": "2025-06-12T19:43:34.832846Z",
     "start_time": "2025-06-12T19:43:34.350559Z"
    }
   },
   "cell_type": "code",
   "source": [
    "NOISE_IMAGE_PATH = \"../data/images/noise/cellular-noise-1.png\"\n",
    "\n",
    "noise = get_noise_patch(NOISE_IMAGE_PATH, (300, 300))\n",
    "samples, new_noise = noise_based_sample(noise, num_samples=1000, max_jitter=0.01, clustering=5)\n",
    "samples[:, 0] *= noise.shape[0] - 1\n",
    "samples[:, 1] *= noise.shape[1] - 1\n",
    "\n",
    "plt.imshow(new_noise, cmap='bone', vmin=0)\n",
    "plt.scatter([x for _, x in samples], [y for y, _ in samples], c='c', s=2)\n",
    "plt.title(\"Sampled locations\")\n",
    "plt.show()"
   ],
   "id": "f84f125a7d678a98",
   "execution_count": 4,
   "outputs": []
  },
  {
   "metadata": {},
   "cell_type": "markdown",
   "source": "### Direction Sampling",
   "id": "3a8e75208953f937"
  },
  {
   "metadata": {
    "ExecuteTime": {
     "end_time": "2025-06-12T19:43:34.842183Z",
     "start_time": "2025-06-12T19:43:34.834495Z"
    }
   },
   "cell_type": "code",
   "source": [
    "def noise_based_sample_dir(noise: np.ndarray, clustering: float = 2, num_samples: int = 1,\n",
    "                       max_jitter: float = 0.01, direction_sampling_window: int = 23):\n",
    "    # Choose random indexes based on noise as probability distribution\n",
    "    p = noise.astype(np.float64).clip(30, 255) ** clustering\n",
    "    flat = p.flatten()\n",
    "    flat = flat / flat.sum()\n",
    "    samples = np.random.choice(a=flat.size, p=flat, size=num_samples, replace=True)\n",
    "    samples = np.array([np.unravel_index(s, p.shape) for s in samples], dtype=np.float64)\n",
    "\n",
    "    # Sampling starting directions from windows around each point\n",
    "    directions = []\n",
    "\n",
    "    half_win = direction_sampling_window // 2\n",
    "    for y, x in samples:\n",
    "        y, x = int(y), int(x)\n",
    "        y0 = max(0, y - half_win)\n",
    "        y1 = min(p.shape[0], y + half_win + 1)\n",
    "        x0 = max(0, x - half_win)\n",
    "        x1 = min(p.shape[1], x + half_win + 1)\n",
    "\n",
    "        local_patch = p[y0:y1, x0:x1]\n",
    "        local_flat = local_patch.flatten()\n",
    "        local_flat = local_flat / local_flat.sum()\n",
    "\n",
    "        grid_y, grid_x = np.meshgrid(\n",
    "            np.linspace(-1, 1, local_patch.shape[0]),\n",
    "            np.linspace(-1, 1, local_patch.shape[1]),\n",
    "            indexing='ij'\n",
    "        )\n",
    "        local_angles = (np.degrees(np.arctan2(grid_y, grid_x)) + 360) % 360\n",
    "        angle_choices = local_angles.flatten()\n",
    "\n",
    "        sampled_angle = np.random.choice(angle_choices, p=local_flat)\n",
    "        directions.append(int(sampled_angle))\n",
    "\n",
    "    # Normalize to [0, 1] coordinate system\n",
    "    samples[:, 0] /= p.shape[0] - 1\n",
    "    samples[:, 1] /= p.shape[1] - 1\n",
    "\n",
    "    if max_jitter is not None and max_jitter > 0:  # Randomly jitter locations\n",
    "        x_offsets = (np.random.random(num_samples) * max_jitter) - max_jitter / 2\n",
    "        y_offsets = (np.random.random(num_samples) * max_jitter) - max_jitter / 2\n",
    "\n",
    "        samples[:, 0] += y_offsets\n",
    "        samples[:, 1] += x_offsets\n",
    "\n",
    "    return samples.clip(0, 1), directions, p"
   ],
   "id": "f44613a11cb168cb",
   "execution_count": 5,
   "outputs": []
  },
  {
   "metadata": {
    "ExecuteTime": {
     "end_time": "2025-06-12T19:43:35.327415Z",
     "start_time": "2025-06-12T19:43:34.843242Z"
    }
   },
   "cell_type": "code",
   "source": [
    "noise = get_noise_patch(NOISE_IMAGE_PATH, (300, 300))\n",
    "samples, directions, new_noise = noise_based_sample_dir(noise, num_samples=200, max_jitter=0.01, clustering=5)\n",
    "samples[:, 0] *= noise.shape[0] - 1\n",
    "samples[:, 1] *= noise.shape[1] - 1\n",
    "\n",
    "plt.imshow(new_noise, cmap='bone', vmin=0)\n",
    "plt.scatter([x for _, x in samples], [y for y, _ in samples], c='c', s=2)\n",
    "plt.quiver([x for _, x in samples], [y for y, _ in samples],\n",
    "           [5 * np.cos(np.deg2rad(d)) for d in directions], [5 * np.sin(np.deg2rad(d)) for d in directions],\n",
    "           angles='xy', scale_units='xy', scale=0.7, color='r', width=0.002)\n",
    "plt.title(\"Sampled locations\")\n",
    "plt.show()"
   ],
   "id": "27816af40db41aa2",
   "execution_count": 6,
   "outputs": []
  },
  {
   "metadata": {},
   "cell_type": "markdown",
   "source": "#### Gradient-Based Direction Sampling",
   "id": "afbca95821784c91"
  },
  {
   "metadata": {
    "ExecuteTime": {
     "end_time": "2025-06-12T19:43:35.333382Z",
     "start_time": "2025-06-12T19:43:35.329270Z"
    }
   },
   "cell_type": "code",
   "source": [
    "def noise_based_sample_dir_grad(noise: np.ndarray, clustering: float = 2, num_samples: int = 1,\n",
    "                                max_jitter: float = 0.01):\n",
    "    # Choose random indexes based on noise as probability distribution\n",
    "    p = noise.astype(np.float64).clip(30, 255) ** clustering\n",
    "    flat = p.flatten()\n",
    "    flat = flat / flat.sum()\n",
    "    samples = np.random.choice(a=flat.size, p=flat, size=num_samples, replace=True)\n",
    "    samples = np.array([np.unravel_index(s, p.shape) for s in samples], dtype=np.float64)\n",
    "\n",
    "    # Sampling starting directions from windows around each point\n",
    "    directions = []\n",
    "    # Get gradient maps\n",
    "    gy, gx = np.gradient(p)\n",
    "\n",
    "    for y, x in samples:\n",
    "        y, x = int(y), int(x)\n",
    "        dx = gx[y, x]\n",
    "        dy = gy[y, x]\n",
    "        # Angle perpendicular to gradient\n",
    "        angle = np.rad2deg(np.arctan2(dy, dx)) + (90 if np.random.random() < 0.5 else 270) % 360\n",
    "        directions.append(int(angle))\n",
    "\n",
    "    # Normalize to [0, 1] coordinate system\n",
    "    samples[:, 0] /= p.shape[0] - 1\n",
    "    samples[:, 1] /= p.shape[1] - 1\n",
    "\n",
    "    if max_jitter is not None and max_jitter > 0:  # Randomly jitter locations\n",
    "        x_offsets = (np.random.random(num_samples) * max_jitter) - max_jitter / 2\n",
    "        y_offsets = (np.random.random(num_samples) * max_jitter) - max_jitter / 2\n",
    "\n",
    "        samples[:, 0] += y_offsets\n",
    "        samples[:, 1] += x_offsets\n",
    "\n",
    "    return samples.clip(0, 1), directions, p"
   ],
   "id": "21d5052c1ddf302a",
   "execution_count": 7,
   "outputs": []
  },
  {
   "metadata": {
    "ExecuteTime": {
     "end_time": "2025-06-12T19:43:35.802216Z",
     "start_time": "2025-06-12T19:43:35.334607Z"
    }
   },
   "cell_type": "code",
   "source": [
    "noise = get_noise_patch(NOISE_IMAGE_PATH, (300, 300))\n",
    "samples, directions, new_noise = noise_based_sample_dir_grad(noise, num_samples=200, max_jitter=0.01, clustering=5)\n",
    "samples[:, 0] *= noise.shape[0] - 1\n",
    "samples[:, 1] *= noise.shape[1] - 1\n",
    "\n",
    "plt.imshow(new_noise, cmap='bone', vmin=0)\n",
    "plt.scatter([x for _, x in samples], [y for y, _ in samples], c='c', s=2)\n",
    "plt.quiver([x for _, x in samples], [y for y, _ in samples],\n",
    "           [5 * np.cos(np.deg2rad(d)) for d in directions], [5 * np.sin(np.deg2rad(d)) for d in directions],\n",
    "           angles='xy', scale_units='xy', scale=0.7, color='r', width=0.002)\n",
    "plt.title(\"Sampled locations\")\n",
    "plt.show()"
   ],
   "id": "9edb9ebb9fd7a54",
   "execution_count": 8,
   "outputs": []
  },
  {
   "metadata": {},
   "cell_type": "markdown",
   "source": "#### Sampling direction based on both gradient and magnitude",
   "id": "86d0a08f07616de9"
  },
  {
   "metadata": {
    "ExecuteTime": {
     "end_time": "2025-06-12T19:43:35.808663Z",
     "start_time": "2025-06-12T19:43:35.803103Z"
    }
   },
   "cell_type": "code",
   "source": [
    "def noise_based_sample_combined(noise: np.ndarray, clustering: float = 2, num_samples: int = 1,\n",
    "                       max_jitter: float = 0.01, direction_sampling_window: int = 23):\n",
    "    # Choose random indexes based on noise as probability distribution\n",
    "    p = noise.astype(np.float64).clip(30, 255) ** clustering\n",
    "    flat = p.flatten()\n",
    "    flat = flat / flat.sum()\n",
    "    samples = np.random.choice(a=flat.size, p=flat, size=num_samples, replace=True)\n",
    "    samples = np.array([np.unravel_index(s, p.shape) for s in samples], dtype=np.float64)\n",
    "\n",
    "    # Sampling starting directions from windows around each point\n",
    "    directions = []\n",
    "    gy, gx = np.gradient(noise)\n",
    "\n",
    "    half_win = direction_sampling_window // 2\n",
    "    for y, x in samples:\n",
    "        y, x = int(y), int(x)\n",
    "        y0 = max(0, y - half_win)\n",
    "        y1 = min(p.shape[0], y + half_win + 1)\n",
    "        x0 = max(0, x - half_win)\n",
    "        x1 = min(p.shape[1], x + half_win + 1)\n",
    "\n",
    "        local_patch = p[y0:y1, x0:x1]\n",
    "        local_flat = local_patch.flatten()\n",
    "        local_flat = local_flat / local_flat.sum()\n",
    "\n",
    "        grid_y, grid_x = np.meshgrid(\n",
    "            np.linspace(-1, 1, local_patch.shape[0]),\n",
    "            np.linspace(-1, 1, local_patch.shape[1]),\n",
    "            indexing='ij'\n",
    "        )\n",
    "        local_angles = np.arctan2(grid_y, grid_x)\n",
    "        angle_choices = local_angles.flatten()\n",
    "\n",
    "        sampled_angle = np.random.choice(angle_choices, p=local_flat)\n",
    "        dx = gx[y, x]\n",
    "        dy = gy[y, x]\n",
    "        grad_angle = np.arctan2(dy, dx) + (0.5*np.pi if np.random.random() < 0.5 else 1.5*np.pi)\n",
    "        \n",
    "        # Create weighted average\n",
    "        grad_strength = np.hypot(dx, dy)\n",
    "        \n",
    "        grad_weight = grad_strength / (grad_strength + 1)\n",
    "        noise_weight = 1.0 - grad_weight\n",
    "        \n",
    "        x = grad_weight * np.cos(grad_angle) + noise_weight * np.cos(sampled_angle)\n",
    "        y = grad_weight * np.sin(grad_angle) + noise_weight * np.sin(sampled_angle)\n",
    "        final_angle = (np.rad2deg(np.arctan2(y, x)) + 360) % 360\n",
    "        \n",
    "        directions.append(int(final_angle))\n",
    "\n",
    "    # Normalize to [0, 1] coordinate system\n",
    "    samples[:, 0] /= p.shape[0] - 1\n",
    "    samples[:, 1] /= p.shape[1] - 1\n",
    "\n",
    "    if max_jitter is not None and max_jitter > 0:  # Randomly jitter locations\n",
    "        x_offsets = (np.random.random(num_samples) * max_jitter) - max_jitter / 2\n",
    "        y_offsets = (np.random.random(num_samples) * max_jitter) - max_jitter / 2\n",
    "\n",
    "        samples[:, 0] += y_offsets\n",
    "        samples[:, 1] += x_offsets\n",
    "\n",
    "    return samples.clip(0, 1), directions, p"
   ],
   "id": "27e5d59d744e8d9f",
   "execution_count": 9,
   "outputs": []
  },
  {
   "metadata": {
    "ExecuteTime": {
     "end_time": "2025-06-12T19:43:36.271094Z",
     "start_time": "2025-06-12T19:43:35.811774Z"
    }
   },
   "cell_type": "code",
   "source": [
    "np.random.seed(0)\n",
    "noise = get_noise_patch(NOISE_IMAGE_PATH, (300, 300))\n",
    "samples, directions, new_noise = noise_based_sample_combined(noise, num_samples=200, max_jitter=0.01, clustering=5)\n",
    "samples[:, 0] *= noise.shape[0] - 1\n",
    "samples[:, 1] *= noise.shape[1] - 1\n",
    "\n",
    "plt.imshow(new_noise, cmap='bone', vmin=0)\n",
    "plt.scatter([x for _, x in samples], [y for y, _ in samples], c='c', s=2)\n",
    "plt.quiver([x for _, x in samples], [y for y, _ in samples],\n",
    "           [5 * np.cos(np.deg2rad(d)) for d in directions], [5 * np.sin(np.deg2rad(d)) for d in directions],\n",
    "           angles='xy', scale_units='xy', scale=0.7, color='r', width=0.002)\n",
    "plt.title(\"Sampled Locations\")\n",
    "plt.show()"
   ],
   "id": "ce799e24b4fdf5b8",
   "execution_count": 10,
   "outputs": []
  },
  {
   "metadata": {},
   "cell_type": "markdown",
   "source": "",
   "id": "f7f102f22ad39911"
  },
  {
   "metadata": {},
   "cell_type": "markdown",
   "source": "# Generating a full image with these locations",
   "id": "c5c809c005fa5b16"
  },
  {
   "metadata": {
    "ExecuteTime": {
     "end_time": "2025-06-12T19:43:36.296911Z",
     "start_time": "2025-06-12T19:43:36.271658Z"
    }
   },
   "cell_type": "code",
   "source": [
    "import matplotlib.pyplot as plt\n",
    "import cv2 as cv\n",
    "from src.image_generator import get_fibre\n",
    "from src.image_processing import add_noise"
   ],
   "id": "47835b380d382b60",
   "execution_count": 11,
   "outputs": []
  },
  {
   "metadata": {
    "ExecuteTime": {
     "end_time": "2025-06-12T19:54:41.792889Z",
     "start_time": "2025-06-12T19:54:41.787499Z"
    }
   },
   "cell_type": "code",
   "source": [
    "def generate_fiber_image(image_size: tuple[int, int] = (2472, 3296),\n",
    "                         num_fibers: int = 60,\n",
    "                         snr: float = 4.5, background_color: int = 135, fiber_color: int = None,\n",
    "                         clustering: float = 2.0) -> np.ndarray:\n",
    "    if fiber_color is None:\n",
    "        fiber_color = background_color / 1.53\n",
    "\n",
    "    # Create image of desired size with specified background color\n",
    "    new_img = np.full(shape=image_size, dtype=np.uint8, fill_value=background_color)\n",
    "    # PLOT BACKGROUND\n",
    "    plt.imshow(new_img, cmap='grey', vmin=0, vmax=255)\n",
    "    plt.savefig(\"figures/background.png\")\n",
    "    plt.title(\"Background\")\n",
    "    plt.show()\n",
    "\n",
    "    # Calculate noise strength\n",
    "    # SNR = signal / noise -> noise = signal / SNR\n",
    "    bg_sg_r = background_color / fiber_color\n",
    "    signal = abs(fiber_color - background_color)\n",
    "    noise_strength = signal / snr\n",
    "\n",
    "    # Get fiber starting locations with noise sampling\n",
    "    noise = get_noise_patch('../data/images/noise/cellular-noise-1.png')\n",
    "    fiber_locs, dirs, new_noise = noise_based_sample_combined(noise=noise,\n",
    "                                                   clustering=clustering,\n",
    "                                                   num_samples=num_fibers,\n",
    "                                                   max_jitter=0.05)\n",
    "    fiber_locs = [(y * image_size[0], x * image_size[1]) for y, x in fiber_locs]\n",
    "    # PLOT FIBRE DISTRIBUTION\n",
    "    plt.imshow(cv.resize(new_noise, (3296, 2472), interpolation=cv.INTER_LINEAR), cmap='bone', vmin=0)\n",
    "    plt.scatter([x for _, x in fiber_locs], [y for y, _ in fiber_locs], c='c', s=2)\n",
    "    plt.quiver([x for _, x in fiber_locs], [y for y, _ in fiber_locs],\n",
    "               [100 * np.cos(np.deg2rad(d)) for d in dirs], [100 * np.sin(np.deg2rad(d)) for d in dirs],\n",
    "               angles='xy', scale_units='xy', scale=0.7, color='r', width=0.002)\n",
    "    plt.xlim(0, 3296)\n",
    "    plt.ylim(0, 2472)\n",
    "    ax = plt.gca()\n",
    "    ax.set_ylim(ax.get_ylim()[::-1])\n",
    "    plt.savefig(\"figures/noise.png\")\n",
    "    plt.title(\"Sampled Locations\")\n",
    "    plt.show()\n",
    "\n",
    "    for (start_y, start_x), start_direction in zip(fiber_locs, dirs):  # Make fibers\n",
    "\n",
    "        # Generate fiber masks\n",
    "        fiber_mask, inner_mask, _ = get_fibre(new_img, start_x, start_y, start_direction)\n",
    "\n",
    "        # Apply fiber patterns to the image with color jittering so fibers are not all equal\n",
    "        new_img[fiber_mask] = (new_img[fiber_mask] * (1 / max(1.1, bg_sg_r + 0.05 * np.random.random()))).astype(\n",
    "            np.uint8)\n",
    "        new_img[inner_mask] = (new_img[inner_mask] * (1.2 + 0.05 * np.random.random())).astype(np.uint8)\n",
    "    \n",
    "    plt.imshow(new_img, cmap='grey', vmin=0, vmax=255)\n",
    "    plt.savefig(\"figures/fibers.png\")\n",
    "    plt.title(\"Generated Fibres\")\n",
    "    plt.show()\n",
    "\n",
    "    # Apply noise and blur\n",
    "    new_img = add_noise(new_img, noise_strength=noise_strength)\n",
    "    plt.imshow(new_img, cmap='grey', vmin=0, vmax=255)\n",
    "    plt.savefig(\"figures/final.png\")\n",
    "    plt.title(\"Final Image\")\n",
    "    plt.show()\n",
    "\n",
    "    return new_img"
   ],
   "id": "a9b2a85a6547e5d7",
   "execution_count": 45,
   "outputs": []
  },
  {
   "metadata": {},
   "cell_type": "markdown",
   "source": "### Image Generation Pipeline",
   "id": "7bc8585776ad07bd"
  },
  {
   "metadata": {
    "ExecuteTime": {
     "end_time": "2025-06-12T19:55:28.114637Z",
     "start_time": "2025-06-12T19:55:25.541161Z"
    }
   },
   "cell_type": "code",
   "source": [
    "np.random.seed(123)\n",
    "_ = generate_fiber_image(image_size=(2472, 3296),\n",
    "                     num_fibers=55,\n",
    "                     snr=4.5,\n",
    "                     background_color=135,\n",
    "                     fiber_color=None,\n",
    "                     clustering=4.0)"
   ],
   "id": "af8be978659894c9",
   "execution_count": 49,
   "outputs": []
  },
  {
   "metadata": {},
   "cell_type": "markdown",
   "source": "# The End.",
   "id": "cf3564fc32686782"
  }
 ],
 "metadata": {
  "kernelspec": {
   "display_name": "Python 3",
   "language": "python",
   "name": "python3"
  },
  "language_info": {
   "codemirror_mode": {
    "name": "ipython",
    "version": 2
   },
   "file_extension": ".py",
   "mimetype": "text/x-python",
   "name": "python",
   "nbconvert_exporter": "python",
   "pygments_lexer": "ipython2",
   "version": "2.7.6"
  }
 },
 "nbformat": 4,
 "nbformat_minor": 5
}
